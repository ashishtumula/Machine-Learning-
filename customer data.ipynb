{
 "cells": [
  {
   "cell_type": "code",
   "execution_count": 1,
   "metadata": {},
   "outputs": [],
   "source": [
    "%matplotlib inline\n",
    "import numpy as np\n",
    "import pandas as pd\n",
    "import os\n",
    "from scipy.stats import zscore\n",
    "from scipy.spatial.distance import pdist, squareform\n",
    "from scipy.cluster.hierarchy import linkage, dendrogram, cut_tree\n",
    "import matplotlib.pyplot as plt"
   ]
  },
  {
   "cell_type": "code",
   "execution_count": 2,
   "metadata": {},
   "outputs": [],
   "source": [
    "data = pd.read_csv(\"Cust_Spend_Data.csv\")"
   ]
  },
  {
   "cell_type": "code",
   "execution_count": 3,
   "metadata": {},
   "outputs": [
    {
     "data": {
      "text/html": [
       "<div>\n",
       "<style scoped>\n",
       "    .dataframe tbody tr th:only-of-type {\n",
       "        vertical-align: middle;\n",
       "    }\n",
       "\n",
       "    .dataframe tbody tr th {\n",
       "        vertical-align: top;\n",
       "    }\n",
       "\n",
       "    .dataframe thead th {\n",
       "        text-align: right;\n",
       "    }\n",
       "</style>\n",
       "<table border=\"1\" class=\"dataframe\">\n",
       "  <thead>\n",
       "    <tr style=\"text-align: right;\">\n",
       "      <th></th>\n",
       "      <th>Cust_ID</th>\n",
       "      <th>Name</th>\n",
       "      <th>Avg_Mthly_Spend</th>\n",
       "      <th>No_Of_Visits</th>\n",
       "      <th>Apparel_Items</th>\n",
       "      <th>FnV_Items</th>\n",
       "      <th>Staples_Items</th>\n",
       "    </tr>\n",
       "  </thead>\n",
       "  <tbody>\n",
       "    <tr>\n",
       "      <th>0</th>\n",
       "      <td>1</td>\n",
       "      <td>A</td>\n",
       "      <td>10000</td>\n",
       "      <td>2</td>\n",
       "      <td>1</td>\n",
       "      <td>1</td>\n",
       "      <td>0</td>\n",
       "    </tr>\n",
       "    <tr>\n",
       "      <th>1</th>\n",
       "      <td>2</td>\n",
       "      <td>B</td>\n",
       "      <td>7000</td>\n",
       "      <td>3</td>\n",
       "      <td>0</td>\n",
       "      <td>10</td>\n",
       "      <td>9</td>\n",
       "    </tr>\n",
       "    <tr>\n",
       "      <th>2</th>\n",
       "      <td>3</td>\n",
       "      <td>C</td>\n",
       "      <td>7000</td>\n",
       "      <td>7</td>\n",
       "      <td>1</td>\n",
       "      <td>3</td>\n",
       "      <td>4</td>\n",
       "    </tr>\n",
       "    <tr>\n",
       "      <th>3</th>\n",
       "      <td>4</td>\n",
       "      <td>D</td>\n",
       "      <td>6500</td>\n",
       "      <td>5</td>\n",
       "      <td>1</td>\n",
       "      <td>1</td>\n",
       "      <td>4</td>\n",
       "    </tr>\n",
       "    <tr>\n",
       "      <th>4</th>\n",
       "      <td>5</td>\n",
       "      <td>E</td>\n",
       "      <td>6000</td>\n",
       "      <td>6</td>\n",
       "      <td>0</td>\n",
       "      <td>12</td>\n",
       "      <td>3</td>\n",
       "    </tr>\n",
       "    <tr>\n",
       "      <th>5</th>\n",
       "      <td>6</td>\n",
       "      <td>F</td>\n",
       "      <td>4000</td>\n",
       "      <td>3</td>\n",
       "      <td>0</td>\n",
       "      <td>1</td>\n",
       "      <td>8</td>\n",
       "    </tr>\n",
       "    <tr>\n",
       "      <th>6</th>\n",
       "      <td>7</td>\n",
       "      <td>G</td>\n",
       "      <td>2500</td>\n",
       "      <td>5</td>\n",
       "      <td>0</td>\n",
       "      <td>11</td>\n",
       "      <td>2</td>\n",
       "    </tr>\n",
       "    <tr>\n",
       "      <th>7</th>\n",
       "      <td>8</td>\n",
       "      <td>H</td>\n",
       "      <td>2500</td>\n",
       "      <td>3</td>\n",
       "      <td>0</td>\n",
       "      <td>1</td>\n",
       "      <td>1</td>\n",
       "    </tr>\n",
       "    <tr>\n",
       "      <th>8</th>\n",
       "      <td>9</td>\n",
       "      <td>I</td>\n",
       "      <td>2000</td>\n",
       "      <td>2</td>\n",
       "      <td>0</td>\n",
       "      <td>2</td>\n",
       "      <td>2</td>\n",
       "    </tr>\n",
       "    <tr>\n",
       "      <th>9</th>\n",
       "      <td>10</td>\n",
       "      <td>J</td>\n",
       "      <td>1000</td>\n",
       "      <td>4</td>\n",
       "      <td>0</td>\n",
       "      <td>1</td>\n",
       "      <td>7</td>\n",
       "    </tr>\n",
       "  </tbody>\n",
       "</table>\n",
       "</div>"
      ],
      "text/plain": [
       "   Cust_ID Name  Avg_Mthly_Spend  No_Of_Visits  Apparel_Items  FnV_Items  \\\n",
       "0        1    A            10000             2              1          1   \n",
       "1        2    B             7000             3              0         10   \n",
       "2        3    C             7000             7              1          3   \n",
       "3        4    D             6500             5              1          1   \n",
       "4        5    E             6000             6              0         12   \n",
       "5        6    F             4000             3              0          1   \n",
       "6        7    G             2500             5              0         11   \n",
       "7        8    H             2500             3              0          1   \n",
       "8        9    I             2000             2              0          2   \n",
       "9       10    J             1000             4              0          1   \n",
       "\n",
       "   Staples_Items  \n",
       "0              0  \n",
       "1              9  \n",
       "2              4  \n",
       "3              4  \n",
       "4              3  \n",
       "5              8  \n",
       "6              2  \n",
       "7              1  \n",
       "8              2  \n",
       "9              7  "
      ]
     },
     "execution_count": 3,
     "metadata": {},
     "output_type": "execute_result"
    }
   ],
   "source": [
    "data"
   ]
  },
  {
   "cell_type": "code",
   "execution_count": 4,
   "metadata": {},
   "outputs": [],
   "source": [
    "#Distance computation\n",
    "\n",
    "pdist\n",
    "#help(pdist)\n",
    "d_euc = pdist(data.iloc[:,2:7], metric = \"euclidean\")"
   ]
  },
  {
   "cell_type": "code",
   "execution_count": 5,
   "metadata": {},
   "outputs": [],
   "source": [
    "#Building the cluster\n",
    "\n",
    "#help(linkage)\n",
    "clus1 = linkage(d_euc, method = \"average\")"
   ]
  },
  {
   "cell_type": "code",
   "execution_count": 6,
   "metadata": {},
   "outputs": [
    {
     "data": {
      "text/plain": [
       "Text(0.5,0.98,'Cluster Dendrogram')"
      ]
     },
     "execution_count": 6,
     "metadata": {},
     "output_type": "execute_result"
    },
    {
     "data": {
      "image/png": "[encoded data removed]",
      "text/plain": [
       "<Figure size 432x288 with 1 Axes>"
      ]
     },
     "metadata": {
      "needs_background": "light"
     },
     "output_type": "display_data"
    }
   ],
   "source": [
    "#Displaying the clusters in Dendrogram\n",
    "\n",
    "dendrogram(clus1, labels = data[[\"Name\"]].values.tolist())\n",
    "plt.xlabel(\"hclust\")\n",
    "plt.ylabel(\"Distance\")\n",
    "plt.suptitle(\"Cluster Dendrogram\", fontweight = 'bold', fontsize =14)"
   ]
  },
  {
   "cell_type": "code",
   "execution_count": 12,
   "metadata": {},
   "outputs": [
    {
     "name": "stdout",
     "output_type": "stream",
     "text": [
      "[[   0.    3000.027 3000.007 3500.004 4000.018 6000.005 7500.008 7500.\n",
      "  8000.    9000.003]\n",
      " [3000.027    0.       9.539  500.111 1000.024 3000.014 4500.006 4500.016\n",
      "  5000.011 6000.007]\n",
      " [3000.007    9.539    0.     500.008 1000.042 3000.006 4500.008 4500.003\n",
      "  5000.003 6000.002]\n",
      " [3500.004  500.111  500.008    0.     500.124 2500.004 4000.013 4000.002\n",
      "  4500.002 5500.001]\n",
      " [4000.018 1000.024 1000.042  500.124    0.    2000.039 3500.    3500.019\n",
      "  4000.015 5000.014]\n",
      " [6000.005 3000.014 3000.006 2500.004 2000.039    0.    1500.047 1500.016\n",
      "  2000.009 3000.   ]\n",
      " [7500.008 4500.006 4500.008 4000.013 3500.    1500.047    0.      10.247\n",
      "   500.09  1500.042]\n",
      " [7500.    4500.016 4500.003 4000.002 3500.019 1500.016   10.247    0.\n",
      "   500.003 1500.012]\n",
      " [8000.    5000.011 5000.003 4500.002 4000.015 2000.009  500.09   500.003\n",
      "     0.    1000.015]\n",
      " [9000.003 6000.007 6000.002 5500.001 5000.014 3000.    1500.042 1500.012\n",
      "  1000.015    0.   ]]\n"
     ]
    }
   ],
   "source": [
    "print(np.round(squareform(d_euc).tolist(),3))"
   ]
  },
  {
   "cell_type": "code",
   "execution_count": 7,
   "metadata": {},
   "outputs": [
    {
     "name": "stderr",
     "output_type": "stream",
     "text": [
      "/anaconda3/lib/python3.7/site-packages/ipykernel_launcher.py:2: DataConversionWarning: Data with input dtype int64 were all converted to float64 by the scale function.\n",
      "  \n"
     ]
    },
    {
     "data": {
      "text/plain": [
       "array([[ 1.88649751, -1.24034735,  1.52752523, -0.74143264, -1.38013112],\n",
       "       [ 0.78756692, -0.62017367, -0.65465367,  1.28065638,  1.7251639 ],\n",
       "       [ 0.78756692,  1.86052102,  1.52752523, -0.29207953,  0.        ],\n",
       "       [ 0.60441182,  0.62017367,  1.52752523, -0.74143264,  0.        ],\n",
       "       [ 0.42125673,  1.24034735, -0.65465367,  1.7300095 , -0.34503278],\n",
       "       [-0.31136367, -0.62017367, -0.65465367, -0.74143264,  1.38013112],\n",
       "       [-0.86082896,  0.62017367, -0.65465367,  1.50533294, -0.69006556],\n",
       "       [-0.86082896, -0.62017367, -0.65465367, -0.74143264, -1.03509834],\n",
       "       [-1.04398406, -1.24034735, -0.65465367, -0.51675608, -0.69006556],\n",
       "       [-1.41029426,  0.        , -0.65465367, -0.74143264,  1.03509834]])"
      ]
     },
     "execution_count": 7,
     "metadata": {},
     "output_type": "execute_result"
    }
   ],
   "source": [
    "from sklearn.preprocessing import scale as scale\n",
    "scaled_data = scale(data.iloc[:,2:7])\n",
    "scaled_data"
   ]
  },
  {
   "cell_type": "code",
   "execution_count": 8,
   "metadata": {},
   "outputs": [],
   "source": [
    "#scaled_data1 = data.iloc[:,2:7].apply(lambda x: (x.mean())/x.std())\n",
    "#scaled_data1"
   ]
  },
  {
   "cell_type": "code",
   "execution_count": 13,
   "metadata": {},
   "outputs": [],
   "source": [
    "d_euc1 = pdist(scaled_data, metric = \"euclidean\")"
   ]
  },
  {
   "cell_type": "code",
   "execution_count": 14,
   "metadata": {},
   "outputs": [],
   "source": [
    "clus2 = linkage(d_euc1, method = \"average\")"
   ]
  },
  {
   "cell_type": "code",
   "execution_count": 15,
   "metadata": {},
   "outputs": [
    {
     "data": {
      "text/plain": [
       "Text(0.5,0.98,'Cluster Dendrogram')"
      ]
     },
     "execution_count": 15,
     "metadata": {},
     "output_type": "execute_result"
    },
    {
     "data": {
      "image/png": "[encoded data removed]",
      "text/plain": [
       "<Figure size 432x288 with 1 Axes>"
      ]
     },
     "metadata": {
      "needs_background": "light"
     },
     "output_type": "display_data"
    }
   ],
   "source": [
    "#Displaying the clusters in Dendrogram\n",
    "dendrogram(clus2, labels = data[[\"Name\"]].values.tolist())\n",
    "plt.xlabel(\"hclust\")\n",
    "plt.ylabel(\"Distance\")\n",
    "plt.suptitle(\"Cluster Dendrogram\", fontweight = 'bold', fontsize =14)"
   ]
  },
  {
   "cell_type": "code",
   "execution_count": 16,
   "metadata": {},
   "outputs": [
    {
     "name": "stdout",
     "output_type": "stream",
     "text": [
      "[[0.    4.482 3.596 2.648 4.499 4.195 4.615 3.58  3.725 4.796]\n",
      " [4.482 0.    4.045 3.66  2.843 2.327 3.184 3.798 3.578 3.127]\n",
      " [3.596 4.045 0.    1.332 3.08  3.772 3.567 3.861 4.273 3.785]\n",
      " [2.648 3.66  1.332 0.    3.377 3.007 3.526 3.085 3.386 3.206]\n",
      " [4.499 2.843 3.08  3.377 0.    3.617 1.483 3.419 3.67  3.592]\n",
      " [4.195 2.327 3.772 3.007 3.617 0.    3.343 2.477 2.293 1.308]\n",
      " [4.615 3.184 3.567 3.526 1.483 3.343 0.    2.589 2.754 2.951]\n",
      " [3.58  3.798 3.861 3.085 3.419 2.477 2.589 0.    0.767 2.23 ]\n",
      " [3.725 3.578 4.273 3.386 3.67  2.293 2.754 0.767 0.    2.168]\n",
      " [4.796 3.127 3.785 3.206 3.592 1.308 2.951 2.23  2.168 0.   ]]\n"
     ]
    }
   ],
   "source": [
    "print(np.round(squareform(d_euc1).tolist(),3))"
   ]
  },
  {
   "cell_type": "code",
   "execution_count": null,
   "metadata": {},
   "outputs": [],
   "source": []
  }
 ],
 "metadata": {
  "kernelspec": {
   "display_name": "Python 3",
   "language": "python",
   "name": "python3"
  },
  "language_info": {
   "codemirror_mode": {
    "name": "ipython",
    "version": 3
   },
   "file_extension": ".py",
   "mimetype": "text/x-python",
   "name": "python",
   "nbconvert_exporter": "python",
   "pygments_lexer": "ipython3",
   "version": "3.7.0"
  }
 },
 "nbformat": 4,
 "nbformat_minor": 2
}
