{
 "cells": [
  {
   "cell_type": "code",
   "execution_count": 1,
   "metadata": {},
   "outputs": [],
   "source": [
    "%matplotlib inline\n",
    "import numpy as np\n",
    "import pandas as pd\n",
    "from scipy.stats import zscore\n",
    "from sklearn.decomposition import PCA\n",
    "from sklearn.preprocessing import StandardScaler\n",
    "import matplotlib.pyplot as plt\n",
    "\n",
    "from sklearn.tree import DecisionTreeClassifier\n",
    "from sklearn.metrics import accuracy_score,confusion_matrix,classification_report\n",
    "from sklearn.model_selection import train_test_split"
   ]
  },
  {
   "cell_type": "code",
   "execution_count": 2,
   "metadata": {},
   "outputs": [],
   "source": [
    "data = pd.read_csv(\"winedataset.csv\")"
   ]
  },
  {
   "cell_type": "code",
   "execution_count": 3,
   "metadata": {},
   "outputs": [],
   "source": [
    "#data.dtypes"
   ]
  },
  {
   "cell_type": "code",
   "execution_count": 4,
   "metadata": {},
   "outputs": [],
   "source": [
    "data_feature = data.drop(labels = \"target\", axis = 1)"
   ]
  },
  {
   "cell_type": "code",
   "execution_count": 16,
   "metadata": {},
   "outputs": [
    {
     "data": {
      "text/html": [
       "<div>\n",
       "<style scoped>\n",
       "    .dataframe tbody tr th:only-of-type {\n",
       "        vertical-align: middle;\n",
       "    }\n",
       "\n",
       "    .dataframe tbody tr th {\n",
       "        vertical-align: top;\n",
       "    }\n",
       "\n",
       "    .dataframe thead th {\n",
       "        text-align: right;\n",
       "    }\n",
       "</style>\n",
       "<table border=\"1\" class=\"dataframe\">\n",
       "  <thead>\n",
       "    <tr style=\"text-align: right;\">\n",
       "      <th></th>\n",
       "      <th>alcohol</th>\n",
       "      <th>malicacid</th>\n",
       "      <th>ash</th>\n",
       "      <th>alcofash</th>\n",
       "      <th>mg</th>\n",
       "      <th>tphenols</th>\n",
       "      <th>flav</th>\n",
       "      <th>nonflav</th>\n",
       "      <th>proantho</th>\n",
       "      <th>color</th>\n",
       "      <th>hue</th>\n",
       "      <th>dilutedwines</th>\n",
       "      <th>proline</th>\n",
       "    </tr>\n",
       "  </thead>\n",
       "  <tbody>\n",
       "    <tr>\n",
       "      <th>0</th>\n",
       "      <td>14.23</td>\n",
       "      <td>1.71</td>\n",
       "      <td>2.43</td>\n",
       "      <td>15.6</td>\n",
       "      <td>127</td>\n",
       "      <td>2.80</td>\n",
       "      <td>3.06</td>\n",
       "      <td>0.28</td>\n",
       "      <td>2.29</td>\n",
       "      <td>5.64</td>\n",
       "      <td>1.04</td>\n",
       "      <td>3.92</td>\n",
       "      <td>1065</td>\n",
       "    </tr>\n",
       "    <tr>\n",
       "      <th>1</th>\n",
       "      <td>13.20</td>\n",
       "      <td>1.78</td>\n",
       "      <td>2.14</td>\n",
       "      <td>11.2</td>\n",
       "      <td>100</td>\n",
       "      <td>2.65</td>\n",
       "      <td>2.76</td>\n",
       "      <td>0.26</td>\n",
       "      <td>1.28</td>\n",
       "      <td>4.38</td>\n",
       "      <td>1.05</td>\n",
       "      <td>3.40</td>\n",
       "      <td>1050</td>\n",
       "    </tr>\n",
       "    <tr>\n",
       "      <th>2</th>\n",
       "      <td>13.16</td>\n",
       "      <td>2.36</td>\n",
       "      <td>2.67</td>\n",
       "      <td>18.6</td>\n",
       "      <td>101</td>\n",
       "      <td>2.80</td>\n",
       "      <td>3.24</td>\n",
       "      <td>0.30</td>\n",
       "      <td>2.81</td>\n",
       "      <td>5.68</td>\n",
       "      <td>1.03</td>\n",
       "      <td>3.17</td>\n",
       "      <td>1185</td>\n",
       "    </tr>\n",
       "    <tr>\n",
       "      <th>3</th>\n",
       "      <td>14.37</td>\n",
       "      <td>1.95</td>\n",
       "      <td>2.50</td>\n",
       "      <td>16.8</td>\n",
       "      <td>113</td>\n",
       "      <td>3.85</td>\n",
       "      <td>3.49</td>\n",
       "      <td>0.24</td>\n",
       "      <td>2.18</td>\n",
       "      <td>7.80</td>\n",
       "      <td>0.86</td>\n",
       "      <td>3.45</td>\n",
       "      <td>1480</td>\n",
       "    </tr>\n",
       "    <tr>\n",
       "      <th>4</th>\n",
       "      <td>13.24</td>\n",
       "      <td>2.59</td>\n",
       "      <td>2.87</td>\n",
       "      <td>21.0</td>\n",
       "      <td>118</td>\n",
       "      <td>2.80</td>\n",
       "      <td>2.69</td>\n",
       "      <td>0.39</td>\n",
       "      <td>1.82</td>\n",
       "      <td>4.32</td>\n",
       "      <td>1.04</td>\n",
       "      <td>2.93</td>\n",
       "      <td>735</td>\n",
       "    </tr>\n",
       "  </tbody>\n",
       "</table>\n",
       "</div>"
      ],
      "text/plain": [
       "   alcohol  malicacid   ash  alcofash   mg  tphenols  flav  nonflav  proantho  \\\n",
       "0    14.23       1.71  2.43      15.6  127      2.80  3.06     0.28      2.29   \n",
       "1    13.20       1.78  2.14      11.2  100      2.65  2.76     0.26      1.28   \n",
       "2    13.16       2.36  2.67      18.6  101      2.80  3.24     0.30      2.81   \n",
       "3    14.37       1.95  2.50      16.8  113      3.85  3.49     0.24      2.18   \n",
       "4    13.24       2.59  2.87      21.0  118      2.80  2.69     0.39      1.82   \n",
       "\n",
       "   color   hue  dilutedwines  proline  \n",
       "0   5.64  1.04          3.92     1065  \n",
       "1   4.38  1.05          3.40     1050  \n",
       "2   5.68  1.03          3.17     1185  \n",
       "3   7.80  0.86          3.45     1480  \n",
       "4   4.32  1.04          2.93      735  "
      ]
     },
     "execution_count": 16,
     "metadata": {},
     "output_type": "execute_result"
    }
   ],
   "source": [
    "data_feature.head()"
   ]
  },
  {
   "cell_type": "code",
   "execution_count": 6,
   "metadata": {},
   "outputs": [],
   "source": [
    "#data_feature_z = data_feature.apply(zscore) "
   ]
  },
  {
   "cell_type": "code",
   "execution_count": 7,
   "metadata": {},
   "outputs": [
    {
     "name": "stderr",
     "output_type": "stream",
     "text": [
      "/anaconda3/lib/python3.7/site-packages/sklearn/preprocessing/data.py:617: DataConversionWarning: Data with input dtype int64, float64 were all converted to float64 by StandardScaler.\n",
      "  return self.partial_fit(X, y)\n",
      "/anaconda3/lib/python3.7/site-packages/sklearn/base.py:462: DataConversionWarning: Data with input dtype int64, float64 were all converted to float64 by StandardScaler.\n",
      "  return self.fit(X, **fit_params).transform(X)\n"
     ]
    }
   ],
   "source": [
    "standardizedData = StandardScaler().fit_transform(data_feature)\n",
    "X = standardizedData\n",
    "y = data.target"
   ]
  },
  {
   "cell_type": "code",
   "execution_count": 8,
   "metadata": {},
   "outputs": [
    {
     "data": {
      "image/png": "[encoded data removed]",
      "text/plain": [
       "<Figure size 432x288 with 1 Axes>"
      ]
     },
     "metadata": {
      "needs_background": "light"
     },
     "output_type": "display_data"
    }
   ],
   "source": [
    "pca = PCA(n_components=13)\n",
    "principalComponents = pca.fit_transform(X)\n",
    "#pca.get_covariance()\n",
    "#pca.explained_variance_\n",
    "#pca.explained_variance_ratio_\n",
    "#pca.explained_variance_ratio_.cumsum()\n",
    "a=pca.explained_variance_ratio_\n",
    "g=range(1,14)\n",
    "plt.plot(g,a)\n",
    "plt.show()"
   ]
  },
  {
   "cell_type": "code",
   "execution_count": 9,
   "metadata": {},
   "outputs": [
    {
     "name": "stdout",
     "output_type": "stream",
     "text": [
      "n_components =  8\n",
      "0.9201754434577264\n"
     ]
    }
   ],
   "source": [
    "pca = PCA(.90)\n",
    "\n",
    "principalComponents1 = pca.fit_transform(X)\n",
    "# To get how many principal components was chosen\n",
    "n_components = pca.n_components_\n",
    "print(\"n_components = \",pca.n_components_)\n",
    "pca = PCA(n_components)\n",
    "\n",
    "principalComponents2 = pca.fit_transform(X)\n",
    "\n",
    "# to get how much variance was retained\n",
    "print(pca.explained_variance_ratio_.sum())"
   ]
  },
  {
   "cell_type": "code",
   "execution_count": 10,
   "metadata": {},
   "outputs": [
    {
     "data": {
      "text/plain": [
       "((178, 13), (178, 13), (178,), (178,))"
      ]
     },
     "execution_count": 10,
     "metadata": {},
     "output_type": "execute_result"
    }
   ],
   "source": [
    "X_Train = X\n",
    "X_Test = X\n",
    "Y_Train = y\n",
    "Y_Test= y\n",
    "X_Train.shape, X_Test.shape, Y_Train.shape, Y_Test.shape"
   ]
  },
  {
   "cell_type": "code",
   "execution_count": 11,
   "metadata": {},
   "outputs": [
    {
     "name": "stdout",
     "output_type": "stream",
     "text": [
      "accuracy =  97.75280898876404\n",
      "[[57  2  0]\n",
      " [ 0 70  1]\n",
      " [ 0  1 47]]\n",
      "              precision    recall  f1-score   support\n",
      "\n",
      "           1       1.00      0.97      0.98        59\n",
      "           2       0.96      0.99      0.97        71\n",
      "           3       0.98      0.98      0.98        48\n",
      "\n",
      "   micro avg       0.98      0.98      0.98       178\n",
      "   macro avg       0.98      0.98      0.98       178\n",
      "weighted avg       0.98      0.98      0.98       178\n",
      "\n"
     ]
    }
   ],
   "source": [
    "DTClassifier = DecisionTreeClassifier (criterion='gini', max_depth=3, min_samples_split = 3)\n",
    "DTClassifier.fit (X_Train,Y_Train)\n",
    "predicted_labels = DTClassifier.predict(X_Test)\n",
    "accuracyscore = accuracy_score(Y_Test, predicted_labels)\n",
    "print(\"accuracy = \", accuracyscore*100.0)\n",
    "print(confusion_matrix(Y_Test, predicted_labels))\n",
    "print(classification_report(Y_Test, predicted_labels))"
   ]
  },
  {
   "cell_type": "code",
   "execution_count": 12,
   "metadata": {},
   "outputs": [
    {
     "name": "stdout",
     "output_type": "stream",
     "text": [
      "accuracy =  99.43820224719101\n",
      "[[58  1  0]\n",
      " [ 0 71  0]\n",
      " [ 0  0 48]]\n",
      "              precision    recall  f1-score   support\n",
      "\n",
      "           1       1.00      0.98      0.99        59\n",
      "           2       0.99      1.00      0.99        71\n",
      "           3       1.00      1.00      1.00        48\n",
      "\n",
      "   micro avg       0.99      0.99      0.99       178\n",
      "   macro avg       1.00      0.99      0.99       178\n",
      "weighted avg       0.99      0.99      0.99       178\n",
      "\n"
     ]
    }
   ],
   "source": [
    "DTClassifier = DecisionTreeClassifier (criterion='entropy', max_depth=3, min_samples_split = 3)\n",
    "DTClassifier.fit (X_Train,Y_Train)\n",
    "predicted_labels1 = DTClassifier.predict(X_Test)\n",
    "accuracyscore1 = accuracy_score(Y_Test, predicted_labels1)\n",
    "print(\"accuracy = \", accuracyscore1*100.0)\n",
    "print(confusion_matrix(Y_Test, predicted_labels1))\n",
    "print(classification_report(Y_Test, predicted_labels1))"
   ]
  },
  {
   "cell_type": "code",
   "execution_count": 13,
   "metadata": {},
   "outputs": [
    {
     "data": {
      "text/plain": [
       "((178, 8), (178, 8), (178,), (178,))"
      ]
     },
     "execution_count": 13,
     "metadata": {},
     "output_type": "execute_result"
    }
   ],
   "source": [
    "#principalComponents\n",
    "X_Train1 = principalComponents2\n",
    "X_Test1 = principalComponents2\n",
    "Y_Train1 = y \n",
    "Y_Test1= y\n",
    "X_Train1.shape, X_Test1.shape, Y_Train1.shape, Y_Test1.shape"
   ]
  },
  {
   "cell_type": "code",
   "execution_count": 14,
   "metadata": {},
   "outputs": [
    {
     "name": "stdout",
     "output_type": "stream",
     "text": [
      "accuracy =  98.87640449438202\n",
      "[[59  0  0]\n",
      " [ 2 69  0]\n",
      " [ 0  0 48]]\n",
      "              precision    recall  f1-score   support\n",
      "\n",
      "           1       0.97      1.00      0.98        59\n",
      "           2       1.00      0.97      0.99        71\n",
      "           3       1.00      1.00      1.00        48\n",
      "\n",
      "   micro avg       0.99      0.99      0.99       178\n",
      "   macro avg       0.99      0.99      0.99       178\n",
      "weighted avg       0.99      0.99      0.99       178\n",
      "\n"
     ]
    }
   ],
   "source": [
    "DTClassifier = DecisionTreeClassifier (criterion='gini', max_depth=3, min_samples_split = 3)\n",
    "DTClassifier.fit (X_Train1,Y_Train1)\n",
    "predicted_labels2 = DTClassifier.predict(X_Test1)\n",
    "accuracyscore2 = accuracy_score(Y_Test1, predicted_labels2)\n",
    "print(\"accuracy = \", accuracyscore2*100.0)\n",
    "print(confusion_matrix(Y_Test1, predicted_labels2))\n",
    "print(classification_report(Y_Test1, predicted_labels2))"
   ]
  },
  {
   "cell_type": "code",
   "execution_count": 15,
   "metadata": {},
   "outputs": [
    {
     "name": "stdout",
     "output_type": "stream",
     "text": [
      "accuracy =  98.87640449438202\n",
      "[[59  0  0]\n",
      " [ 2 69  0]\n",
      " [ 0  0 48]]\n",
      "              precision    recall  f1-score   support\n",
      "\n",
      "           1       0.97      1.00      0.98        59\n",
      "           2       1.00      0.97      0.99        71\n",
      "           3       1.00      1.00      1.00        48\n",
      "\n",
      "   micro avg       0.99      0.99      0.99       178\n",
      "   macro avg       0.99      0.99      0.99       178\n",
      "weighted avg       0.99      0.99      0.99       178\n",
      "\n"
     ]
    }
   ],
   "source": [
    "DTClassifier = DecisionTreeClassifier (criterion='entropy', max_depth=3, min_samples_split = 3)\n",
    "DTClassifier.fit (X_Train1,Y_Train1)\n",
    "predicted_labels3 = DTClassifier.predict(X_Test1)\n",
    "accuracyscore3 = accuracy_score(Y_Test1, predicted_labels3)\n",
    "print(\"accuracy = \", accuracyscore3*100.0)\n",
    "print(confusion_matrix(Y_Test1, predicted_labels3))\n",
    "print(classification_report(Y_Test1, predicted_labels3))"
   ]
  },
  {
   "cell_type": "code",
   "execution_count": null,
   "metadata": {},
   "outputs": [],
   "source": []
  },
  {
   "cell_type": "code",
   "execution_count": null,
   "metadata": {},
   "outputs": [],
   "source": []
  }
 ],
 "metadata": {
  "kernelspec": {
   "display_name": "Python 3",
   "language": "python",
   "name": "python3"
  },
  "language_info": {
   "codemirror_mode": {
    "name": "ipython",
    "version": 3
   },
   "file_extension": ".py",
   "mimetype": "text/x-python",
   "name": "python",
   "nbconvert_exporter": "python",
   "pygments_lexer": "ipython3",
   "version": "3.7.0"
  }
 },
 "nbformat": 4,
 "nbformat_minor": 2
}
